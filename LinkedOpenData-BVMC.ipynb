{
 "cells": [
  {
   "cell_type": "markdown",
   "id": "a5953b8e",
   "metadata": {},
   "source": [
    "<img style=\"float: right;\" src=\"imagenes/logo-bvmc.png\" width=\"180px\">\n",
    "<img style=\"float: right;margin-right:10px;\" src=\"imagenes/logo-ua.jpg\" width=\"200px\">\n",
    "<img style=\"float: right;margin-right:10px;margin-top: -10px;\" src=\"imagenes/logo-hdh.png\" width=\"120px\">"
   ]
  },
  {
   "cell_type": "markdown",
   "id": "1ac79ed6",
   "metadata": {},
   "source": [
    "La <a href=\"https://data.cervantesvirtual.com\">Biblioteca Virtual Miguel de Cervantes</a> publicó su catálogo como datos abiertos y enlazados (en inglés, Linked Open Data) utilizando como vocabulario principal <a href=\"http://www.rdaregistry.info/\">Resource, Description and Access</a>.\n",
    "\n",
    "Este Jupyter Notebook muestra cómo acceder al catálogo a través del lenguaje de consulta <a href=\"https://www.w3.org/TR/sparql11-query/\">SPARQL</a>."
   ]
  },
  {
   "cell_type": "markdown",
   "id": "59f28ca0",
   "metadata": {},
   "source": [
    "En primer lugar, incluimos las librerías de software necesarias para poder realizar una llamada al punto de acceso público SPARQL de la Biblioteca Virtual Miguel de Cervantes <a href=\"https://data.cervantesvirtual.com/sparql\">https://data.cervantesvirtual.com/sparql</a>. También especificamos el grafo por defecto a utilizar."
   ]
  },
  {
   "cell_type": "code",
   "execution_count": 1,
   "id": "65355365",
   "metadata": {},
   "outputs": [],
   "source": [
    "from SPARQLWrapper import SPARQLWrapper, JSON\n",
    "\n",
    "sparql = SPARQLWrapper(\n",
    "    \"https://data.cervantesvirtual.com/sparql\"\n",
    ")\n",
    "sparql.setReturnFormat(JSON)\n",
    "sparql.addDefaultGraph(\"http://localhost:8890/DAV/bvmc\")"
   ]
  },
  {
   "cell_type": "markdown",
   "id": "117d62fb",
   "metadata": {},
   "source": [
    "A continuación, especificamos la sentencia SPARQL para recuperar el título y autor de la obra El ingenioso hidalgo Don Quijote de la Mancha."
   ]
  },
  {
   "cell_type": "code",
   "execution_count": 2,
   "id": "09f2d68f",
   "metadata": {},
   "outputs": [],
   "source": [
    "sparql.setQuery(\"\"\"\n",
    "    PREFIX rdac: <http://rdaregistry.info/Elements/c/>\n",
    "    PREFIX rdaw: <http://rdaregistry.info/Elements/w/>\n",
    "    PREFIX rdaa: <http://rdaregistry.info/Elements/a/>\n",
    "    PREFIX dc: <http://purl.org/dc/elements/1.1/>\n",
    "\n",
    "    SELECT DISTINCT ?titulo ?autor ?nombre ?materia\n",
    "    WHERE {\n",
    "        <https://data.cervantesvirtual.com/work/2904> a rdac:Work .\n",
    "        <https://data.cervantesvirtual.com/work/2904> rdaw:titleOfTheWork ?titulo .\n",
    "        <https://data.cervantesvirtual.com/work/2904> dc:subject ?materia .\n",
    "        <https://data.cervantesvirtual.com/work/2904> rdaw:author ?autor .\n",
    "        ?autor rdaa:nameOfThePerson ?nombre\n",
    "    }\n",
    "    LIMIT 10\n",
    "    \"\"\"\n",
    ")"
   ]
  },
  {
   "cell_type": "markdown",
   "id": "a083426a",
   "metadata": {},
   "source": [
    "Finalmente, mostramos el resultado por pantalla:"
   ]
  },
  {
   "cell_type": "code",
   "execution_count": 3,
   "id": "bf6a2515",
   "metadata": {},
   "outputs": [
    {
     "name": "stdout",
     "output_type": "stream",
     "text": [
      "Título:  El ingenioso hidalgo Don Quijote de la Mancha\n",
      "Materia:  Novela española -- Siglo 17º\n",
      "Autor:  https://data.cervantesvirtual.com/person/40\n",
      "Nombre:  Cervantes Saavedra, Miguel de\n"
     ]
    }
   ],
   "source": [
    "try:\n",
    "    ret = sparql.queryAndConvert()\n",
    "\n",
    "    for r in ret[\"results\"][\"bindings\"]:\n",
    "        print('Título: ', r['titulo']['value'])\n",
    "        print('Materia: ', r['materia']['value'])\n",
    "        print('Autor: ', r['autor']['value'])\n",
    "        print('Nombre: ', r['nombre']['value'])\n",
    "except Exception as e:\n",
    "    print(e)"
   ]
  },
  {
   "cell_type": "markdown",
   "id": "bd130899",
   "metadata": {},
   "source": [
    "A continuación, vamos a recuperar los personajes de la obra que se encuentran disponibles en Wikidata. Para ello utilizamos la propiedad wdt:P3976 que identifica obras en la Biblioteca Virtual Miguel de Cervantes."
   ]
  },
  {
   "cell_type": "code",
   "execution_count": 4,
   "id": "e1ddf2d6",
   "metadata": {},
   "outputs": [],
   "source": [
    "sparql = SPARQLWrapper(\n",
    "    \"https://query.wikidata.org/sparql\"\n",
    ")\n",
    "sparql.setReturnFormat(JSON)\n",
    "\n",
    "sparql.setQuery(\"\"\"\n",
    "    PREFIX rdac: <http://rdaregistry.info/Elements/c/>\n",
    "    PREFIX rdaw: <http://rdaregistry.info/Elements/w/>\n",
    "    PREFIX rdaa: <http://rdaregistry.info/Elements/a/>\n",
    "    PREFIX dc: <http://purl.org/dc/elements/1.1/>\n",
    "\n",
    "    SELECT DISTINCT ?personaje ?personajeLabel\n",
    "    WHERE {\n",
    "        ?work wdt:P3976 \"2904\".\n",
    "        ?work wdt:P674 ?personaje . \n",
    "        SERVICE wikibase:label { bd:serviceParam wikibase:language \"[AUTO_LANGUAGE],es\". }\n",
    "    }\n",
    "    LIMIT 50\n",
    "    \"\"\"\n",
    ")"
   ]
  },
  {
   "cell_type": "markdown",
   "id": "5257f9a4",
   "metadata": {},
   "source": [
    "Y de la misma forma, mostramos los resultados:"
   ]
  },
  {
   "cell_type": "code",
   "execution_count": 5,
   "id": "04ed6359",
   "metadata": {},
   "outputs": [
    {
     "name": "stdout",
     "output_type": "stream",
     "text": [
      "Personaje:  http://www.wikidata.org/entity/Q5129635\n",
      "Personaje:  Clavileño\n",
      "Personaje:  http://www.wikidata.org/entity/Q6120178\n",
      "Personaje:  Sansón Carrasco\n",
      "Personaje:  http://www.wikidata.org/entity/Q6072772\n",
      "Personaje:  Pero Pérez\n",
      "Personaje:  http://www.wikidata.org/entity/Q5563337\n",
      "Personaje:  Ginés de Pasamonte\n",
      "Personaje:  http://www.wikidata.org/entity/Q6113413\n",
      "Personaje:  el rucio\n",
      "Personaje:  http://www.wikidata.org/entity/Q23807432\n",
      "Personaje:  Maese Nicolás\n",
      "Personaje:  http://www.wikidata.org/entity/Q52733938\n",
      "Personaje:  Marcela\n",
      "Personaje:  http://www.wikidata.org/entity/Q56419457\n",
      "Personaje:  Don Fernando\n",
      "Personaje:  http://www.wikidata.org/entity/Q21401597\n",
      "Personaje:  Maritornes\n",
      "Personaje:  http://www.wikidata.org/entity/Q630823\n",
      "Personaje:  Sancho Panza\n",
      "Personaje:  http://www.wikidata.org/entity/Q1918252\n",
      "Personaje:  Rocinante\n",
      "Personaje:  http://www.wikidata.org/entity/Q52734852\n",
      "Personaje:  Dorotea\n",
      "Personaje:  http://www.wikidata.org/entity/Q56480586\n",
      "Personaje:  Anselmo\n",
      "Personaje:  http://www.wikidata.org/entity/Q56480571\n",
      "Personaje:  Camila\n",
      "Personaje:  http://www.wikidata.org/entity/Q944201\n",
      "Personaje:  Alonso Quijano\n",
      "Personaje:  http://www.wikidata.org/entity/Q56437455\n",
      "Personaje:  Zoraida\n",
      "Personaje:  http://www.wikidata.org/entity/Q2972300\n",
      "Personaje:  Cide Hamete Benengeli\n",
      "Personaje:  http://www.wikidata.org/entity/Q56480508\n",
      "Personaje:  Lotario\n",
      "Personaje:  http://www.wikidata.org/entity/Q1264776\n",
      "Personaje:  Dulcinea del Toboso\n",
      "Personaje:  http://www.wikidata.org/entity/Q56419440\n",
      "Personaje:  Luscinda\n",
      "Personaje:  http://www.wikidata.org/entity/Q56480859\n",
      "Personaje:  Juan Pérez de Viedma\n",
      "Personaje:  http://www.wikidata.org/entity/Q56480815\n",
      "Personaje:  Ruy Pérez de Viedma\n",
      "Personaje:  http://www.wikidata.org/entity/Q56419306\n",
      "Personaje:  Cardenio\n",
      "Personaje:  http://www.wikidata.org/entity/Q56482562\n",
      "Personaje:  Clara de Viedma\n",
      "Personaje:  http://www.wikidata.org/entity/Q56634053\n",
      "Personaje:  Teresa Panza\n"
     ]
    }
   ],
   "source": [
    "try:\n",
    "    ret = sparql.queryAndConvert()\n",
    "\n",
    "    for r in ret[\"results\"][\"bindings\"]:\n",
    "        print('Personaje: ', r['personaje']['value'])\n",
    "        print('Personaje: ', r['personajeLabel']['value'])\n",
    "except Exception as e:\n",
    "    print(e)"
   ]
  },
  {
   "cell_type": "markdown",
   "id": "b385925a",
   "metadata": {},
   "source": [
    "También podemos mostrar las imágenes de los personajes:"
   ]
  },
  {
   "cell_type": "code",
   "execution_count": 8,
   "id": "42413bd1",
   "metadata": {},
   "outputs": [],
   "source": [
    "sparql = SPARQLWrapper(\n",
    "    \"https://query.wikidata.org/sparql\"\n",
    ")\n",
    "sparql.setReturnFormat(JSON)\n",
    "\n",
    "sparql.setQuery(\"\"\"\n",
    "    PREFIX rdac: <http://rdaregistry.info/Elements/c/>\n",
    "    PREFIX rdaw: <http://rdaregistry.info/Elements/w/>\n",
    "    PREFIX rdaa: <http://rdaregistry.info/Elements/a/>\n",
    "    PREFIX dc: <http://purl.org/dc/elements/1.1/>\n",
    "\n",
    "    SELECT DISTINCT ?imagen ?personajeLabel\n",
    "    WHERE {\n",
    "        ?work wdt:P3976 \"2904\".\n",
    "        ?work wdt:P674 ?personaje . \n",
    "        ?personaje wdt:P18 ?imagen .\n",
    "        SERVICE wikibase:label { bd:serviceParam wikibase:language \"[AUTO_LANGUAGE],es\". }\n",
    "    }\n",
    "    LIMIT 5\n",
    "    \"\"\"\n",
    ")"
   ]
  },
  {
   "cell_type": "code",
   "execution_count": 11,
   "id": "de52ddf3",
   "metadata": {},
   "outputs": [
    {
     "name": "stdout",
     "output_type": "stream",
     "text": [
      "Personaje:  Sancho Panza\n",
      "Imagen:  http://commons.wikimedia.org/wiki/Special:FilePath/1879%2C%20El%20ingenioso%20hidalgo%20D.%20Quijote%20de%20la%20Mancha%2C%20Sancho%20Panza%2C%20Mestres%20%28cropped%29.jpg\n"
     ]
    },
    {
     "data": {
      "text/html": [
       "<img width='100px' src='http://commons.wikimedia.org/wiki/Special:FilePath/1879%2C%20El%20ingenioso%20hidalgo%20D.%20Quijote%20de%20la%20Mancha%2C%20Sancho%20Panza%2C%20Mestres%20%28cropped%29.jpg'>"
      ],
      "text/plain": [
       "<IPython.core.display.HTML object>"
      ]
     },
     "metadata": {},
     "output_type": "display_data"
    },
    {
     "name": "stdout",
     "output_type": "stream",
     "text": [
      "Personaje:  Anselmo\n",
      "Imagen:  http://commons.wikimedia.org/wiki/Special:FilePath/202%20084%20quijote%20cap33%20%28cropped%29%20Anselmo.jpg\n"
     ]
    },
    {
     "data": {
      "text/html": [
       "<img width='100px' src='http://commons.wikimedia.org/wiki/Special:FilePath/202%20084%20quijote%20cap33%20%28cropped%29%20Anselmo.jpg'>"
      ],
      "text/plain": [
       "<IPython.core.display.HTML object>"
      ]
     },
     "metadata": {},
     "output_type": "display_data"
    },
    {
     "name": "stdout",
     "output_type": "stream",
     "text": [
      "Personaje:  Rocinante\n",
      "Imagen:  http://commons.wikimedia.org/wiki/Special:FilePath/CavalloChishotte.jpg\n"
     ]
    },
    {
     "data": {
      "text/html": [
       "<img width='100px' src='http://commons.wikimedia.org/wiki/Special:FilePath/CavalloChishotte.jpg'>"
      ],
      "text/plain": [
       "<IPython.core.display.HTML object>"
      ]
     },
     "metadata": {},
     "output_type": "display_data"
    },
    {
     "name": "stdout",
     "output_type": "stream",
     "text": [
      "Personaje:  Maritornes\n",
      "Imagen:  http://commons.wikimedia.org/wiki/Special:FilePath/Don%20Quijote%2C%20Luis%20Tasso%2C%20%281894%3F%29%20%22El%20lecho%2C%20que%20era%20un%20poco%20endeble...d%C3%ADo%20consigo%20en%20el%20suelo...%22%20%285789341875%29%20%28cropped%29%20Maritornes.jpg\n"
     ]
    },
    {
     "data": {
      "text/html": [
       "<img width='100px' src='http://commons.wikimedia.org/wiki/Special:FilePath/Don%20Quijote%2C%20Luis%20Tasso%2C%20%281894%3F%29%20%22El%20lecho%2C%20que%20era%20un%20poco%20endeble...d%C3%ADo%20consigo%20en%20el%20suelo...%22%20%285789341875%29%20%28cropped%29%20Maritornes.jpg'>"
      ],
      "text/plain": [
       "<IPython.core.display.HTML object>"
      ]
     },
     "metadata": {},
     "output_type": "display_data"
    },
    {
     "name": "stdout",
     "output_type": "stream",
     "text": [
      "Personaje:  Dorotea\n",
      "Imagen:  http://commons.wikimedia.org/wiki/Special:FilePath/1905-05-27%2C%20Blanco%20y%20Negro%2C%20Dorotea%2C%20Cecilio%20Pla%20%28cropped%29.jpg\n"
     ]
    },
    {
     "data": {
      "text/html": [
       "<img width='100px' src='http://commons.wikimedia.org/wiki/Special:FilePath/1905-05-27%2C%20Blanco%20y%20Negro%2C%20Dorotea%2C%20Cecilio%20Pla%20%28cropped%29.jpg'>"
      ],
      "text/plain": [
       "<IPython.core.display.HTML object>"
      ]
     },
     "metadata": {},
     "output_type": "display_data"
    }
   ],
   "source": [
    "from IPython.display import display, HTML\n",
    "\n",
    "try:\n",
    "    ret = sparql.queryAndConvert()\n",
    "\n",
    "    for r in ret[\"results\"][\"bindings\"]:\n",
    "        print('Personaje: ', r['personajeLabel']['value'])\n",
    "        print('Imagen: ', r['imagen']['value'])\n",
    "        display(HTML(\"<img width='100px' src='\"+ r['imagen']['value'] +\"'>\"))\n",
    "except Exception as e:\n",
    "    print(e)"
   ]
  },
  {
   "cell_type": "code",
   "execution_count": null,
   "id": "c555a388",
   "metadata": {},
   "outputs": [],
   "source": []
  }
 ],
 "metadata": {
  "kernelspec": {
   "display_name": "Python 3",
   "language": "python",
   "name": "python3"
  },
  "language_info": {
   "codemirror_mode": {
    "name": "ipython",
    "version": 3
   },
   "file_extension": ".py",
   "mimetype": "text/x-python",
   "name": "python",
   "nbconvert_exporter": "python",
   "pygments_lexer": "ipython3",
   "version": "3.9.12"
  }
 },
 "nbformat": 4,
 "nbformat_minor": 5
}
